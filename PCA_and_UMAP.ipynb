{
 "cells": [
  {
   "cell_type": "code",
   "execution_count": 3,
   "metadata": {},
   "outputs": [],
   "source": [
    "from sklearn.decomposition import PCA\n",
    "import numpy as np\n",
    "import pandas as pd\n",
    "from ast import literal_eval\n",
    "import umap"
   ]
  },
  {
   "cell_type": "code",
   "execution_count": 41,
   "metadata": {},
   "outputs": [],
   "source": [
    "doc_embeddings = pd.read_csv(\"Doc_Embeddings.csv\")"
   ]
  },
  {
   "cell_type": "code",
   "execution_count": 42,
   "metadata": {},
   "outputs": [],
   "source": [
    "doc_embeddings['embedding'] = doc_embeddings['embedding'].apply(literal_eval)\n"
   ]
  },
  {
   "cell_type": "code",
   "execution_count": 75,
   "metadata": {},
   "outputs": [
    {
     "data": {
      "text/plain": [
       "(546, 384)"
      ]
     },
     "execution_count": 75,
     "metadata": {},
     "output_type": "execute_result"
    }
   ],
   "source": [
    "# Convert the 'embedding' column to a 2D numpy array\n",
    "embeddings_array = np.array(doc_embeddings['embedding'].tolist())\n",
    "embeddings_array.shape"
   ]
  },
  {
   "cell_type": "code",
   "execution_count": 55,
   "metadata": {},
   "outputs": [],
   "source": [
    "# Initialize PCA with the desired number of components (e.g., 2 for visualization purposes)\n",
    "n_components = 10\n",
    "pca = PCA(n_components=n_components)\n",
    "\n",
    "# Fit PCA to your data\n",
    "pca.fit(embeddings_array)\n",
    "\n",
    "# Transform the data to the new low-dimensional space\n",
    "embeddings_pca = pca.transform(embeddings_array)"
   ]
  },
  {
   "cell_type": "code",
   "execution_count": 57,
   "metadata": {},
   "outputs": [
    {
     "data": {
      "text/plain": [
       "(546, 10)"
      ]
     },
     "execution_count": 57,
     "metadata": {},
     "output_type": "execute_result"
    }
   ],
   "source": [
    "embeddings_pca.shape"
   ]
  },
  {
   "cell_type": "code",
   "execution_count": 59,
   "metadata": {},
   "outputs": [
    {
     "name": "stdout",
     "output_type": "stream",
     "text": [
      "Explained variance ratio of each component: [0.09969506 0.06001461 0.03422296 0.03322587 0.02976361 0.02910926\n",
      " 0.02354175 0.02168496 0.01995102 0.01744422]\n",
      "These 10 components account for 36.87% of the original variance of the dataset\n"
     ]
    }
   ],
   "source": [
    "# If you want to see the explained variance ratio of each component:\n",
    "print(\"Explained variance ratio of each component:\", pca.explained_variance_ratio_)\n",
    "print(f\"These {len(pca.explained_variance_ratio_)} components account for {round(sum(pca.explained_variance_ratio_)*100, 2)}% of the original variance of the dataset\")"
   ]
  },
  {
   "cell_type": "code",
   "execution_count": 60,
   "metadata": {},
   "outputs": [
    {
     "data": {
      "text/html": [
       "<div>\n",
       "<style scoped>\n",
       "    .dataframe tbody tr th:only-of-type {\n",
       "        vertical-align: middle;\n",
       "    }\n",
       "\n",
       "    .dataframe tbody tr th {\n",
       "        vertical-align: top;\n",
       "    }\n",
       "\n",
       "    .dataframe thead th {\n",
       "        text-align: right;\n",
       "    }\n",
       "</style>\n",
       "<table border=\"1\" class=\"dataframe\">\n",
       "  <thead>\n",
       "    <tr style=\"text-align: right;\">\n",
       "      <th></th>\n",
       "      <th>PC1</th>\n",
       "      <th>PC2</th>\n",
       "      <th>PC3</th>\n",
       "      <th>PC4</th>\n",
       "      <th>PC5</th>\n",
       "      <th>PC6</th>\n",
       "      <th>PC7</th>\n",
       "      <th>PC8</th>\n",
       "      <th>PC9</th>\n",
       "      <th>PC10</th>\n",
       "    </tr>\n",
       "  </thead>\n",
       "  <tbody>\n",
       "    <tr>\n",
       "      <th>0</th>\n",
       "      <td>0.421970</td>\n",
       "      <td>0.060598</td>\n",
       "      <td>-0.005837</td>\n",
       "      <td>0.252857</td>\n",
       "      <td>0.093542</td>\n",
       "      <td>0.258626</td>\n",
       "      <td>0.216162</td>\n",
       "      <td>0.193012</td>\n",
       "      <td>0.233460</td>\n",
       "      <td>-0.060679</td>\n",
       "    </tr>\n",
       "    <tr>\n",
       "      <th>1</th>\n",
       "      <td>0.396880</td>\n",
       "      <td>-0.008034</td>\n",
       "      <td>-0.001619</td>\n",
       "      <td>0.242710</td>\n",
       "      <td>0.107599</td>\n",
       "      <td>0.243641</td>\n",
       "      <td>0.241079</td>\n",
       "      <td>0.157295</td>\n",
       "      <td>0.152002</td>\n",
       "      <td>-0.034439</td>\n",
       "    </tr>\n",
       "    <tr>\n",
       "      <th>2</th>\n",
       "      <td>0.156880</td>\n",
       "      <td>0.390225</td>\n",
       "      <td>-0.046728</td>\n",
       "      <td>-0.071126</td>\n",
       "      <td>-0.016850</td>\n",
       "      <td>0.120469</td>\n",
       "      <td>-0.005960</td>\n",
       "      <td>-0.098720</td>\n",
       "      <td>-0.174771</td>\n",
       "      <td>-0.185665</td>\n",
       "    </tr>\n",
       "    <tr>\n",
       "      <th>3</th>\n",
       "      <td>0.225348</td>\n",
       "      <td>0.371690</td>\n",
       "      <td>-0.167144</td>\n",
       "      <td>-0.053522</td>\n",
       "      <td>-0.027385</td>\n",
       "      <td>0.073489</td>\n",
       "      <td>-0.078679</td>\n",
       "      <td>-0.125000</td>\n",
       "      <td>-0.052496</td>\n",
       "      <td>-0.231188</td>\n",
       "    </tr>\n",
       "    <tr>\n",
       "      <th>4</th>\n",
       "      <td>0.197406</td>\n",
       "      <td>0.136551</td>\n",
       "      <td>0.147796</td>\n",
       "      <td>0.054663</td>\n",
       "      <td>0.002721</td>\n",
       "      <td>0.282046</td>\n",
       "      <td>0.023183</td>\n",
       "      <td>0.072061</td>\n",
       "      <td>-0.115902</td>\n",
       "      <td>0.038635</td>\n",
       "    </tr>\n",
       "    <tr>\n",
       "      <th>...</th>\n",
       "      <td>...</td>\n",
       "      <td>...</td>\n",
       "      <td>...</td>\n",
       "      <td>...</td>\n",
       "      <td>...</td>\n",
       "      <td>...</td>\n",
       "      <td>...</td>\n",
       "      <td>...</td>\n",
       "      <td>...</td>\n",
       "      <td>...</td>\n",
       "    </tr>\n",
       "    <tr>\n",
       "      <th>541</th>\n",
       "      <td>0.069077</td>\n",
       "      <td>-0.017216</td>\n",
       "      <td>-0.058836</td>\n",
       "      <td>-0.210223</td>\n",
       "      <td>0.035152</td>\n",
       "      <td>-0.174377</td>\n",
       "      <td>-0.076611</td>\n",
       "      <td>-0.243222</td>\n",
       "      <td>0.074454</td>\n",
       "      <td>-0.217489</td>\n",
       "    </tr>\n",
       "    <tr>\n",
       "      <th>542</th>\n",
       "      <td>-0.101937</td>\n",
       "      <td>0.040628</td>\n",
       "      <td>-0.167586</td>\n",
       "      <td>-0.157418</td>\n",
       "      <td>0.038943</td>\n",
       "      <td>-0.055873</td>\n",
       "      <td>-0.099020</td>\n",
       "      <td>-0.146241</td>\n",
       "      <td>0.050466</td>\n",
       "      <td>-0.133843</td>\n",
       "    </tr>\n",
       "    <tr>\n",
       "      <th>543</th>\n",
       "      <td>0.044595</td>\n",
       "      <td>0.233074</td>\n",
       "      <td>-0.012257</td>\n",
       "      <td>-0.201202</td>\n",
       "      <td>-0.076471</td>\n",
       "      <td>-0.214881</td>\n",
       "      <td>-0.105018</td>\n",
       "      <td>-0.201356</td>\n",
       "      <td>-0.054250</td>\n",
       "      <td>-0.062819</td>\n",
       "    </tr>\n",
       "    <tr>\n",
       "      <th>544</th>\n",
       "      <td>0.073826</td>\n",
       "      <td>0.193906</td>\n",
       "      <td>0.142891</td>\n",
       "      <td>-0.243016</td>\n",
       "      <td>-0.147900</td>\n",
       "      <td>-0.247993</td>\n",
       "      <td>-0.004138</td>\n",
       "      <td>-0.096134</td>\n",
       "      <td>-0.038255</td>\n",
       "      <td>-0.115761</td>\n",
       "    </tr>\n",
       "    <tr>\n",
       "      <th>545</th>\n",
       "      <td>0.165888</td>\n",
       "      <td>-0.188798</td>\n",
       "      <td>-0.110302</td>\n",
       "      <td>-0.111855</td>\n",
       "      <td>0.119444</td>\n",
       "      <td>-0.032247</td>\n",
       "      <td>0.028217</td>\n",
       "      <td>-0.249810</td>\n",
       "      <td>0.056846</td>\n",
       "      <td>-0.006966</td>\n",
       "    </tr>\n",
       "  </tbody>\n",
       "</table>\n",
       "<p>546 rows × 10 columns</p>\n",
       "</div>"
      ],
      "text/plain": [
       "          PC1       PC2       PC3       PC4       PC5       PC6       PC7  \\\n",
       "0    0.421970  0.060598 -0.005837  0.252857  0.093542  0.258626  0.216162   \n",
       "1    0.396880 -0.008034 -0.001619  0.242710  0.107599  0.243641  0.241079   \n",
       "2    0.156880  0.390225 -0.046728 -0.071126 -0.016850  0.120469 -0.005960   \n",
       "3    0.225348  0.371690 -0.167144 -0.053522 -0.027385  0.073489 -0.078679   \n",
       "4    0.197406  0.136551  0.147796  0.054663  0.002721  0.282046  0.023183   \n",
       "..        ...       ...       ...       ...       ...       ...       ...   \n",
       "541  0.069077 -0.017216 -0.058836 -0.210223  0.035152 -0.174377 -0.076611   \n",
       "542 -0.101937  0.040628 -0.167586 -0.157418  0.038943 -0.055873 -0.099020   \n",
       "543  0.044595  0.233074 -0.012257 -0.201202 -0.076471 -0.214881 -0.105018   \n",
       "544  0.073826  0.193906  0.142891 -0.243016 -0.147900 -0.247993 -0.004138   \n",
       "545  0.165888 -0.188798 -0.110302 -0.111855  0.119444 -0.032247  0.028217   \n",
       "\n",
       "          PC8       PC9      PC10  \n",
       "0    0.193012  0.233460 -0.060679  \n",
       "1    0.157295  0.152002 -0.034439  \n",
       "2   -0.098720 -0.174771 -0.185665  \n",
       "3   -0.125000 -0.052496 -0.231188  \n",
       "4    0.072061 -0.115902  0.038635  \n",
       "..        ...       ...       ...  \n",
       "541 -0.243222  0.074454 -0.217489  \n",
       "542 -0.146241  0.050466 -0.133843  \n",
       "543 -0.201356 -0.054250 -0.062819  \n",
       "544 -0.096134 -0.038255 -0.115761  \n",
       "545 -0.249810  0.056846 -0.006966  \n",
       "\n",
       "[546 rows x 10 columns]"
      ]
     },
     "execution_count": 60,
     "metadata": {},
     "output_type": "execute_result"
    }
   ],
   "source": [
    "pca_df = pd.DataFrame(embeddings_pca, columns=['PC1', 'PC2', 'PC3','PC4', 'PC5', 'PC6','PC7', 'PC8', 'PC9', 'PC10'])\n",
    "pca_df"
   ]
  },
  {
   "cell_type": "code",
   "execution_count": 62,
   "metadata": {},
   "outputs": [
    {
     "data": {
      "text/plain": [
       "(546, 19)"
      ]
     },
     "execution_count": 62,
     "metadata": {},
     "output_type": "execute_result"
    }
   ],
   "source": [
    "doc_embeddings_with_pca = pd.concat([doc_embeddings, pca_df], axis=1)\n",
    "doc_embeddings_with_pca.shape"
   ]
  },
  {
   "cell_type": "code",
   "execution_count": 63,
   "metadata": {},
   "outputs": [],
   "source": [
    "doc_embeddings_with_pca.to_csv('Doc_Embeddings_with_PCA.csv')"
   ]
  },
  {
   "cell_type": "code",
   "execution_count": 77,
   "metadata": {},
   "outputs": [],
   "source": [
    "reducer = umap.UMAP(n_components=2,  # Adjust n_components as needed\n",
    "                    n_neighbors=15,  # Experiment with different values\n",
    "                    min_dist=0.05,  # Experiment with different values\n",
    "                    metric='euclidean')  # Consider other metrics if appropriate\n"
   ]
  },
  {
   "cell_type": "code",
   "execution_count": 81,
   "metadata": {},
   "outputs": [],
   "source": [
    "umap_embeddings = reducer.fit_transform(embeddings_array)\n"
   ]
  },
  {
   "cell_type": "code",
   "execution_count": 82,
   "metadata": {},
   "outputs": [
    {
     "data": {
      "text/plain": [
       "(546, 2)"
      ]
     },
     "execution_count": 82,
     "metadata": {},
     "output_type": "execute_result"
    }
   ],
   "source": [
    "umap_embeddings.shape"
   ]
  },
  {
   "cell_type": "code",
   "execution_count": 83,
   "metadata": {},
   "outputs": [],
   "source": [
    "umap_df = pd.DataFrame(umap_embeddings, columns=[\"UMAP1\", \"UMAP2\"])"
   ]
  },
  {
   "cell_type": "code",
   "execution_count": 84,
   "metadata": {},
   "outputs": [
    {
     "data": {
      "text/plain": [
       "(546, 21)"
      ]
     },
     "execution_count": 84,
     "metadata": {},
     "output_type": "execute_result"
    }
   ],
   "source": [
    "doc_embeddings_with_pca_and_umap = pd.concat([doc_embeddings_with_pca, umap_df], axis=1)\n",
    "doc_embeddings_with_pca_and_umap.shape"
   ]
  },
  {
   "cell_type": "code",
   "execution_count": 85,
   "metadata": {},
   "outputs": [],
   "source": [
    "doc_embeddings_with_pca_and_umap.to_csv('Doc_Embeddings_with_PCA_and_UMAP.csv')"
   ]
  },
  {
   "cell_type": "code",
   "execution_count": 89,
   "metadata": {},
   "outputs": [
    {
     "data": {
      "text/plain": [
       "count    546.000000\n",
       "mean       1.361697\n",
       "std        0.103990\n",
       "min        0.000000\n",
       "25%        1.322944\n",
       "50%        1.376098\n",
       "75%        1.422511\n",
       "max        1.514929\n",
       "Name: dist, dtype: float64"
      ]
     },
     "execution_count": 89,
     "metadata": {},
     "output_type": "execute_result"
    }
   ],
   "source": [
    "doc_embeddings_with_pca_and_umap[\"dist\"].describe()"
   ]
  }
 ],
 "metadata": {
  "kernelspec": {
   "display_name": ".venv",
   "language": "python",
   "name": "python3"
  },
  "language_info": {
   "codemirror_mode": {
    "name": "ipython",
    "version": 3
   },
   "file_extension": ".py",
   "mimetype": "text/x-python",
   "name": "python",
   "nbconvert_exporter": "python",
   "pygments_lexer": "ipython3",
   "version": "3.11.4"
  }
 },
 "nbformat": 4,
 "nbformat_minor": 2
}
